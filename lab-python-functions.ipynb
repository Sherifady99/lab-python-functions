{
 "cells": [
  {
   "cell_type": "markdown",
   "id": "25d7736c-ba17-4aff-b6bb-66eba20fbf4e",
   "metadata": {},
   "source": [
    "# Lab | Functions"
   ]
  },
  {
   "cell_type": "markdown",
   "id": "0c581062-8967-4d93-b06e-62833222f930",
   "metadata": {
    "tags": []
   },
   "source": [
    "## Exercise: Managing Customer Orders with Functions\n",
    "\n",
    "In the previous exercise, you improved the code for managing customer orders by using loops and flow control. Now, let's take it a step further and refactor the code by introducing functions.\n",
    "\n",
    "Follow the steps below to complete the exercise:\n",
    "\n",
    "1. Define a function named `initialize_inventory` that takes `products` as a parameter. Inside the function, implement the code for initializing the inventory dictionary using a loop and user input.\n",
    "\n",
    "2. Define a function named `get_customer_orders` that takes no parameters. Inside the function, implement the code for prompting the user to enter the product names using a loop. The function should return the `customer_orders` set.\n",
    "\n",
    "3. Define a function named `update_inventory` that takes `customer_orders` and `inventory` as parameters. Inside the function, implement the code for updating the inventory dictionary based on the customer orders.\n",
    "\n",
    "4. Define a function named `calculate_order_statistics` that takes `customer_orders` and `products` as parameters. Inside the function, implement the code for calculating the order statistics (total products ordered, and percentage of unique products ordered). The function should return these values.\n",
    "\n",
    "5. Define a function named `print_order_statistics` that takes `order_statistics` as a parameter. Inside the function, implement the code for printing the order statistics.\n",
    "\n",
    "6. Define a function named `print_updated_inventory` that takes `inventory` as a parameter. Inside the function, implement the code for printing the updated inventory.\n",
    "\n",
    "7. Call the functions in the appropriate sequence to execute the program and manage customer orders.\n",
    "\n",
    "Hints for functions:\n",
    "\n",
    "- Consider the input parameters required for each function and their return values.\n",
    "- Utilize function parameters and return values to transfer data between functions.\n",
    "- Test your functions individually to ensure they work correctly.\n",
    "\n",
    "\n"
   ]
  },
  {
   "cell_type": "code",
   "execution_count": 6,
   "id": "747073fe",
   "metadata": {},
   "outputs": [],
   "source": [
    "# Creating Product List\n",
    "\n",
    "products = [\"t-shirt\", \"mug\", \"hat\", \"book\", \"keychain\"]"
   ]
  },
  {
   "cell_type": "code",
   "execution_count": 19,
   "id": "a6696732",
   "metadata": {},
   "outputs": [],
   "source": [
    "# 1. Defining a function named initialize inventory -- Adding in loop for user to input quantity of inventory.\n",
    "\n",
    "def initialize_inventory(products):\n",
    "    inventory={}\n",
    "    for product in products:\n",
    "        quantity = int(input(f\"Enter the quantity of {product}s available: \"))\n",
    "        inventory[product] = quantity\n",
    "    return inventory\n",
    "\n",
    "inventory = initialize_inventory(products)"
   ]
  },
  {
   "cell_type": "code",
   "execution_count": null,
   "id": "dbb2c24c",
   "metadata": {},
   "outputs": [],
   "source": [
    "# 2. Defining get customer orders function - promting users to add in the products the customer wishes to order.\n",
    "\n",
    "def get_customer_orders():\n",
    "    customer_orders= set()\n",
    "    while True:\n",
    "        product_name = input(\"Enter the name of a product (t-shirt, mug, hat, book, keychain): \")\n",
    "        if product_name in products:\n",
    "            customer_orders.add(product_name)\n",
    "            add_another = input(\"Do you wish to add another product? (yes/no)\").strip().lower()\n",
    "            if add_another == \"no\":\n",
    "                break\n",
    "        else:\n",
    "            print(\"This product is not available, please try again\")\n",
    "    return customer_orders\n",
    "\n",
    "customer_orders= get_customer_orders()"
   ]
  },
  {
   "cell_type": "code",
   "execution_count": null,
   "id": "72a349f0",
   "metadata": {},
   "outputs": [],
   "source": [
    "# 3. Defining update inventory function - updating the inventory based on customer orders.\n",
    "\n",
    "def update_inventory(customer_orders, inventory):\n",
    "    for order in customer_orders:\n",
    "        if order in inventory:\n",
    "            inventory[order] -= 1\n",
    "    return inventory\n",
    "\n",
    "update_inventory(customer_orders, inventory)"
   ]
  },
  {
   "cell_type": "code",
   "execution_count": 45,
   "id": "fa92d6e8",
   "metadata": {},
   "outputs": [],
   "source": [
    "# 4. Calculating order statistics function\n",
    "\n",
    "def calculate_order_statistics(customer_orders, products):\n",
    "    customer_order_length = len(customer_orders)\n",
    "    percentage_ordered = (len(customer_orders) / len(products)) * 100\n",
    "    return customer_order_length, percentage_ordered"
   ]
  },
  {
   "cell_type": "code",
   "execution_count": null,
   "id": "1065b047",
   "metadata": {},
   "outputs": [],
   "source": [
    "# Defining Print Order Statistics Function:\n",
    "\n",
    "def print_order_statistics(order_statistics):\n",
    "    customer_order_length, percentage_ordered = order_statistics\n",
    "    print(\"Order Statistics:\")\n",
    "    print(f\"Total Products Ordered: {customer_order_length}\", customer_orders)\n",
    "    print(\"Percentage of Products Ordered:\",round(percentage_ordered, 2), \"%\")\n",
    "\n",
    "\n",
    "print_order_statistics(order_statistics)\n"
   ]
  },
  {
   "cell_type": "code",
   "execution_count": null,
   "id": "ece4b029",
   "metadata": {},
   "outputs": [],
   "source": [
    "# Defining printing updated inventory function:\n",
    "\n",
    "def print_updated_inventory(inventory):\n",
    "    print(\"\\n\")\n",
    "    print(\"After this order, your remaining inventory is:\")\n",
    "    for product, quantity in inventory.items():\n",
    "        print(f\"{product}: {quantity}\")\n",
    "\n",
    "\n",
    "print_updated_inventory(inventory)"
   ]
  },
  {
   "cell_type": "code",
   "execution_count": null,
   "id": "51002824",
   "metadata": {},
   "outputs": [],
   "source": [
    "# Calling all the functions together to finish: Works great!!\n",
    "\n",
    "inventory = initialize_inventory(products)\n",
    "customer_orders = get_customer_orders()\n",
    "update_inventory(customer_orders, inventory)\n",
    "\n",
    "order_statistics = calculate_order_statistics(customer_orders, products)\n",
    "print_order_statistics(order_statistics)\n",
    "print_updated_inventory(inventory)"
   ]
  }
 ],
 "metadata": {
  "kernelspec": {
   "display_name": "base",
   "language": "python",
   "name": "python3"
  },
  "language_info": {
   "codemirror_mode": {
    "name": "ipython",
    "version": 3
   },
   "file_extension": ".py",
   "mimetype": "text/x-python",
   "name": "python",
   "nbconvert_exporter": "python",
   "pygments_lexer": "ipython3",
   "version": "3.12.7"
  }
 },
 "nbformat": 4,
 "nbformat_minor": 5
}
